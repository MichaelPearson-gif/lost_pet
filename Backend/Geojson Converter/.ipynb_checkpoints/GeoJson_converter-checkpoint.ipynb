{
 "cells": [
  {
   "cell_type": "code",
   "execution_count": 1,
   "metadata": {},
   "outputs": [
    {
     "name": "stdout",
     "output_type": "stream",
     "text": [
      "{'place': 'San Diego', 'mag': 3.2, 'lat': 32.7157, 'lng': -117.611}\n"
     ]
    }
   ],
   "source": [
    "from pprint import pprint\n",
    "import json\n",
    "# Create a test dictionary \n",
    "test = {\n",
    "    'place': 'San Diego',\n",
    "    'mag': 3.2,\n",
    "    'lat': 32.7157,\n",
    "    'lng': -117.611\n",
    "}\n",
    "\n",
    "print(test)"
   ]
  },
  {
   "cell_type": "code",
   "execution_count": 2,
   "metadata": {},
   "outputs": [],
   "source": [
    "# Create the Geojson converter function\n",
    "def geojsonify(data):\n",
    "\n",
    "    # Initialize the features array\n",
    "    features = []\n",
    "\n",
    "    # List comprehension to grab the coordinates in the order of longitude, latitude\n",
    "    # The function sorted() uses a keyword 'reverse' that when set to true will reverse the order\n",
    "#     coordinates = [value for key, value in sorted(data, reverse=True) if key == 'lng' or key == 'lat']\n",
    "    coordinates = [value for key, value in sorted(data.items(), reverse=True) if key == 'lng' or key == 'lat']\n",
    "\n",
    "    # Loop through the key and values to populatate a new dictionary called properties\n",
    "    # Excluding the lat and lng\n",
    "    properties = {key: value for key, value in data.items() if key != \"lat\" and key != \"lng\"}\n",
    "\n",
    "    # Create the key and values that will populate the features array\n",
    "    my_features = {\n",
    "        \"type\": \"Feature\",\n",
    "        \"properties\": properties,\n",
    "        \"geometry\": {\n",
    "            \"type\": \"Point\",\n",
    "            \"coordinates\": coordinates\n",
    "        }\n",
    "    }\n",
    "\n",
    "    # Append to the features array\n",
    "    features.append(my_features)\n",
    "\n",
    "    # Create the geojson object\n",
    "#     return {\n",
    "#         \"type\": \"FeatureCollection\",\n",
    "#         \"features\": features\n",
    "#     }\n",
    "\n",
    "    # Create a new dictionary that will be the format for the geojson object\n",
    "    new_data = {\n",
    "        \"type\": \"FeatureCollection\",\n",
    "        \"features\": features\n",
    "    }\n",
    "    \n",
    "    # Return a json object using json.dumps\n",
    "    return json.dumps(new_data)"
   ]
  },
  {
   "cell_type": "code",
   "execution_count": 15,
   "metadata": {},
   "outputs": [],
   "source": [
    "# Create a Geojsonify class\n",
    "class Geojsonify():\n",
    "    \n",
    "    # Initialize the class object\n",
    "    def __init__(self, iterable):\n",
    "        # Initialize lists and dictionairies to store info\n",
    "        self.features = []\n",
    "        self.coordinates = []\n",
    "        self.data = {}\n",
    "        self.properties = []\n",
    "        self.my_features = {}\n",
    "        self.geometry = {}\n",
    "        # Initialize the function to grab the coordinates\n",
    "        self.__get_coord(iterable)\n",
    "        # Initialize the function to grab the other info in the dictionary and place it in properties\n",
    "        self.__get_properties(iterable)\n",
    "        # Initialize the function to append to the my_features dictionary\n",
    "        self.__append_dict(iterable)\n",
    "        \n",
    "    # Create the function to get the coordinates\n",
    "    def __get_coord(self, iterable):\n",
    "        # Loop through the list of dictionaries\n",
    "        for i in range(0, length(iterable)):\n",
    "            # Loop through the dictionaires for the lat and lng keys\n",
    "            # The function sorted() uses a keyword 'reverse' that when set to true will reverse the order\n",
    "            for key, value in sorted(iterable[i].items(), reverse=True):\n",
    "                # Create a condition to search for the lat and lng keys\n",
    "                if key == 'lat' or key == 'lng':\n",
    "                    # Append to the coordinates list with the lat and lng\n",
    "                    self.coordinates.append(value)\n",
    "                    \n",
    "    # Create the function to grab the other info in a dictionary and store it in properties\n",
    "    def __get_properties(self, iterable):\n",
    "        # Loop through the list of dictionaries\n",
    "        for i in range(0, length(iterable)):\n",
    "            # Loop through the dictionairies for info that is not lat or lng\n",
    "            for key, value in iterable[i].items():\n",
    "                # Create the condition to grab everthing that is not using the key lat or lng\n",
    "                if key != \"lat\" or key != \"lng\":\n",
    "                    # Append to the data dictionary\n",
    "                    self.data[key] = value\n",
    "                    # Append to the properties list\n",
    "                    self.properties.append(data)\n",
    "                    \n",
    "    # Create the function that will append to my_features\n",
    "    def __append_dict(self, iterable):\n",
    "        # Loop through the properties list\n",
    "        for i in range(0, length(self.properties)):\n",
    "            # Loop through the coordinates list\n",
    "            for j in range(0, length(self.coordinates)):\n",
    "                \n",
    "    \n",
    "        "
   ]
  },
  {
   "cell_type": "code",
   "execution_count": null,
   "metadata": {},
   "outputs": [],
   "source": [
    "# Create a Geojsonify class using json dumps"
   ]
  },
  {
   "cell_type": "code",
   "execution_count": 3,
   "metadata": {},
   "outputs": [
    {
     "name": "stdout",
     "output_type": "stream",
     "text": [
      "('{\"type\": \"FeatureCollection\", \"features\": [{\"type\": \"Feature\", \"properties\": '\n",
      " '{\"place\": \"San Diego\", \"mag\": 3.2}, \"geometry\": {\"type\": \"Point\", '\n",
      " '\"coordinates\": [-117.611, 32.7157]}}]}')\n"
     ]
    }
   ],
   "source": [
    "# Test the geojsonify function with the test data\n",
    "my_test = geojsonify(test)\n",
    "\n",
    "# Preview the result\n",
    "pprint(my_test)"
   ]
  },
  {
   "cell_type": "code",
   "execution_count": 4,
   "metadata": {},
   "outputs": [
    {
     "name": "stdout",
     "output_type": "stream",
     "text": [
      "{'place': 'Rohnert Park', 'mag': 4.5, 'lat': 38.3396, 'lng': -122.7011}\n"
     ]
    }
   ],
   "source": [
    "new_test = {\n",
    "    'place': 'Rohnert Park',\n",
    "    'mag': 4.5,\n",
    "    'lat': 38.3396,\n",
    "    'lng': -122.7011\n",
    "}\n",
    "print(new_test)"
   ]
  },
  {
   "cell_type": "code",
   "execution_count": 6,
   "metadata": {},
   "outputs": [
    {
     "name": "stdout",
     "output_type": "stream",
     "text": [
      "('{\"type\": \"FeatureCollection\", \"features\": [{\"type\": \"Feature\", \"properties\": '\n",
      " '{\"place\": \"Rohnert Park\", \"mag\": 4.5}, \"geometry\": {\"type\": \"Point\", '\n",
      " '\"coordinates\": [-122.7011, 38.3396]}}]}')\n"
     ]
    }
   ],
   "source": [
    "pprint(geojsonify(new_test))"
   ]
  }
 ],
 "metadata": {
  "kernelspec": {
   "display_name": "Python 3",
   "language": "python",
   "name": "python3"
  },
  "language_info": {
   "codemirror_mode": {
    "name": "ipython",
    "version": 3
   },
   "file_extension": ".py",
   "mimetype": "text/x-python",
   "name": "python",
   "nbconvert_exporter": "python",
   "pygments_lexer": "ipython3",
   "version": "3.6.8"
  }
 },
 "nbformat": 4,
 "nbformat_minor": 4
}
